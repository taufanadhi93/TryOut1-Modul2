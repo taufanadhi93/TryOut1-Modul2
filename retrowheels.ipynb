{
 "metadata": {
  "language_info": {
   "codemirror_mode": {
    "name": "ipython",
    "version": 3
   },
   "file_extension": ".py",
   "mimetype": "text/x-python",
   "name": "python",
   "nbconvert_exporter": "python",
   "pygments_lexer": "ipython3",
   "version": "3.8.7"
  },
  "orig_nbformat": 2,
  "kernelspec": {
   "name": "python387jvsc74a57bd0aee8b7b246df8f9039afb4144a1f6fd8d2ca17a180786b69acc140d282b71a49",
   "display_name": "Python 3.8.7 64-bit"
  },
  "metadata": {
   "interpreter": {
    "hash": "aee8b7b246df8f9039afb4144a1f6fd8d2ca17a180786b69acc140d282b71a49"
   }
  }
 },
 "nbformat": 4,
 "nbformat_minor": 2,
 "cells": [
  {
   "cell_type": "code",
   "execution_count": 1,
   "metadata": {},
   "outputs": [],
   "source": [
    "import mysql.connector\n",
    "import pandas as pd"
   ]
  },
  {
   "cell_type": "code",
   "execution_count": 2,
   "metadata": {},
   "outputs": [],
   "source": [
    "mydb = mysql.connector.connect(\n",
    "    host = 'localhost',\n",
    "    user = 'root',\n",
    "    passwd = '@Ravenclaw93',\n",
    "    database = 'retrowheels'\n",
    ")"
   ]
  },
  {
   "cell_type": "code",
   "execution_count": 3,
   "metadata": {},
   "outputs": [
    {
     "output_type": "execute_result",
     "data": {
      "text/plain": [
       "   Customer  Cities  Country\n",
       "0       122      95       27"
      ],
      "text/html": "<div>\n<style scoped>\n    .dataframe tbody tr th:only-of-type {\n        vertical-align: middle;\n    }\n\n    .dataframe tbody tr th {\n        vertical-align: top;\n    }\n\n    .dataframe thead th {\n        text-align: right;\n    }\n</style>\n<table border=\"1\" class=\"dataframe\">\n  <thead>\n    <tr style=\"text-align: right;\">\n      <th></th>\n      <th>Customer</th>\n      <th>Cities</th>\n      <th>Country</th>\n    </tr>\n  </thead>\n  <tbody>\n    <tr>\n      <th>0</th>\n      <td>122</td>\n      <td>95</td>\n      <td>27</td>\n    </tr>\n  </tbody>\n</table>\n</div>"
     },
     "metadata": {},
     "execution_count": 3
    }
   ],
   "source": [
    "mycursor = mydb.cursor()\n",
    "query = (\n",
    "    'SELECT COUNT(distinct customerNumber) as Customer, COUNT(distinct city) as Cities, COUNT(distinct country) as Country FROM customers;'\n",
    "    )\n",
    "mycursor.execute(query)\n",
    "result = mycursor.fetchall()\n",
    "ans1 = pd.DataFrame(result, columns=mycursor.column_names)\n",
    "ans1"
   ]
  },
  {
   "cell_type": "code",
   "execution_count": 4,
   "metadata": {},
   "outputs": [
    {
     "output_type": "execute_result",
     "data": {
      "text/plain": [
       "   Employees  Offices  Country  Products StockProducts  Vendor\n",
       "0         23        7        5       110        555131      13"
      ],
      "text/html": "<div>\n<style scoped>\n    .dataframe tbody tr th:only-of-type {\n        vertical-align: middle;\n    }\n\n    .dataframe tbody tr th {\n        vertical-align: top;\n    }\n\n    .dataframe thead th {\n        text-align: right;\n    }\n</style>\n<table border=\"1\" class=\"dataframe\">\n  <thead>\n    <tr style=\"text-align: right;\">\n      <th></th>\n      <th>Employees</th>\n      <th>Offices</th>\n      <th>Country</th>\n      <th>Products</th>\n      <th>StockProducts</th>\n      <th>Vendor</th>\n    </tr>\n  </thead>\n  <tbody>\n    <tr>\n      <th>0</th>\n      <td>23</td>\n      <td>7</td>\n      <td>5</td>\n      <td>110</td>\n      <td>555131</td>\n      <td>13</td>\n    </tr>\n  </tbody>\n</table>\n</div>"
     },
     "metadata": {},
     "execution_count": 4
    }
   ],
   "source": [
    "mycursor = mydb.cursor()\n",
    "query = ('Select  count(distinct(employees.employeeNumber)) as Employees, count(distinct(offices.officeCode)) as Offices, count(distinct(offices.country)) as Country, count(distinct(products.quantityInStock)) as Products, sum(distinct(products.quantityInStock)) as StockProducts,count(distinct(products.productVendor)) as Vendor From employees, offices, products;')\n",
    "mycursor.execute(query)\n",
    "result = mycursor.fetchall()\n",
    "ans2 = pd.DataFrame(result, columns=mycursor.column_names)\n",
    "ans2"
   ]
  },
  {
   "cell_type": "code",
   "execution_count": 5,
   "metadata": {},
   "outputs": [
    {
     "output_type": "execute_result",
     "data": {
      "text/plain": [
       "        productLine minPrice maxPrice\n",
       "0      Classic Cars    15.91   103.42\n",
       "1       Motorcycles    24.14    91.02\n",
       "2            Planes    29.34    77.27\n",
       "3             Ships    33.30    82.34\n",
       "4            Trains    26.72    67.56\n",
       "5  Trucks and Buses    24.92    84.76\n",
       "6      Vintage Cars    20.61    86.70"
      ],
      "text/html": "<div>\n<style scoped>\n    .dataframe tbody tr th:only-of-type {\n        vertical-align: middle;\n    }\n\n    .dataframe tbody tr th {\n        vertical-align: top;\n    }\n\n    .dataframe thead th {\n        text-align: right;\n    }\n</style>\n<table border=\"1\" class=\"dataframe\">\n  <thead>\n    <tr style=\"text-align: right;\">\n      <th></th>\n      <th>productLine</th>\n      <th>minPrice</th>\n      <th>maxPrice</th>\n    </tr>\n  </thead>\n  <tbody>\n    <tr>\n      <th>0</th>\n      <td>Classic Cars</td>\n      <td>15.91</td>\n      <td>103.42</td>\n    </tr>\n    <tr>\n      <th>1</th>\n      <td>Motorcycles</td>\n      <td>24.14</td>\n      <td>91.02</td>\n    </tr>\n    <tr>\n      <th>2</th>\n      <td>Planes</td>\n      <td>29.34</td>\n      <td>77.27</td>\n    </tr>\n    <tr>\n      <th>3</th>\n      <td>Ships</td>\n      <td>33.30</td>\n      <td>82.34</td>\n    </tr>\n    <tr>\n      <th>4</th>\n      <td>Trains</td>\n      <td>26.72</td>\n      <td>67.56</td>\n    </tr>\n    <tr>\n      <th>5</th>\n      <td>Trucks and Buses</td>\n      <td>24.92</td>\n      <td>84.76</td>\n    </tr>\n    <tr>\n      <th>6</th>\n      <td>Vintage Cars</td>\n      <td>20.61</td>\n      <td>86.70</td>\n    </tr>\n  </tbody>\n</table>\n</div>"
     },
     "metadata": {},
     "execution_count": 5
    }
   ],
   "source": [
    "mycursor = mydb.cursor()\n",
    "query = ('select productLine, min(buyPrice) as minPrice, max(buyPrice) as maxPrice from products group by productLine;')\n",
    "mycursor.execute(query)\n",
    "result = mycursor.fetchall()\n",
    "ans3 = pd.DataFrame(result, columns=mycursor.column_names)\n",
    "ans3"
   ]
  },
  {
   "cell_type": "code",
   "execution_count": 6,
   "metadata": {},
   "outputs": [
    {
     "output_type": "execute_result",
     "data": {
      "text/plain": [
       "                   customerName           city      country      total\n",
       "0        Euro+ Shopping Channel         Madrid        Spain  715738.98\n",
       "1  Mini Gifts Distributors Ltd.     San Rafael          USA  584188.24\n",
       "2    Australian Collectors, Co.      Melbourne    Australia  180585.07\n",
       "3            Muscle Machine Inc            NYC          USA  177913.95\n",
       "4       Dragon Souveniers, Ltd.      Singapore    Singapore  156251.03\n",
       "5    Down Under Souveniers, Inc     Auckland    New Zealand  154622.08\n",
       "6                AV Stores, Co.     Manchester           UK  148410.09\n",
       "7       Anna's Decorations, Ltd   North Sydney    Australia  137034.22\n",
       "8      Corporate Gift Ideas Co.  San Francisco          USA  132340.78\n",
       "9        Saveley & Henriot, Co.           Lyon       France  130305.35"
      ],
      "text/html": "<div>\n<style scoped>\n    .dataframe tbody tr th:only-of-type {\n        vertical-align: middle;\n    }\n\n    .dataframe tbody tr th {\n        vertical-align: top;\n    }\n\n    .dataframe thead th {\n        text-align: right;\n    }\n</style>\n<table border=\"1\" class=\"dataframe\">\n  <thead>\n    <tr style=\"text-align: right;\">\n      <th></th>\n      <th>customerName</th>\n      <th>city</th>\n      <th>country</th>\n      <th>total</th>\n    </tr>\n  </thead>\n  <tbody>\n    <tr>\n      <th>0</th>\n      <td>Euro+ Shopping Channel</td>\n      <td>Madrid</td>\n      <td>Spain</td>\n      <td>715738.98</td>\n    </tr>\n    <tr>\n      <th>1</th>\n      <td>Mini Gifts Distributors Ltd.</td>\n      <td>San Rafael</td>\n      <td>USA</td>\n      <td>584188.24</td>\n    </tr>\n    <tr>\n      <th>2</th>\n      <td>Australian Collectors, Co.</td>\n      <td>Melbourne</td>\n      <td>Australia</td>\n      <td>180585.07</td>\n    </tr>\n    <tr>\n      <th>3</th>\n      <td>Muscle Machine Inc</td>\n      <td>NYC</td>\n      <td>USA</td>\n      <td>177913.95</td>\n    </tr>\n    <tr>\n      <th>4</th>\n      <td>Dragon Souveniers, Ltd.</td>\n      <td>Singapore</td>\n      <td>Singapore</td>\n      <td>156251.03</td>\n    </tr>\n    <tr>\n      <th>5</th>\n      <td>Down Under Souveniers, Inc</td>\n      <td>Auckland</td>\n      <td>New Zealand</td>\n      <td>154622.08</td>\n    </tr>\n    <tr>\n      <th>6</th>\n      <td>AV Stores, Co.</td>\n      <td>Manchester</td>\n      <td>UK</td>\n      <td>148410.09</td>\n    </tr>\n    <tr>\n      <th>7</th>\n      <td>Anna's Decorations, Ltd</td>\n      <td>North Sydney</td>\n      <td>Australia</td>\n      <td>137034.22</td>\n    </tr>\n    <tr>\n      <th>8</th>\n      <td>Corporate Gift Ideas Co.</td>\n      <td>San Francisco</td>\n      <td>USA</td>\n      <td>132340.78</td>\n    </tr>\n    <tr>\n      <th>9</th>\n      <td>Saveley &amp; Henriot, Co.</td>\n      <td>Lyon</td>\n      <td>France</td>\n      <td>130305.35</td>\n    </tr>\n  </tbody>\n</table>\n</div>"
     },
     "metadata": {},
     "execution_count": 6
    }
   ],
   "source": [
    "mycursor = mydb.cursor()\n",
    "query = ('SELECT customerName, city, country, sum(amount) as total FROM customers c, payments p WHERE c.customerNumber = p.customerNumber GROUP BY c.customerNumber ORDER BY total desc LIMIT 10;'\n",
    "    )\n",
    "mycursor.execute(query)\n",
    "result = mycursor.fetchall()\n",
    "ans4 = pd.DataFrame(result, columns=mycursor.column_names)\n",
    "ans4"
   ]
  },
  {
   "cell_type": "code",
   "execution_count": 7,
   "metadata": {},
   "outputs": [
    {
     "output_type": "execute_result",
     "data": {
      "text/plain": [
       "        customerName                     productName  quantityOrdered  \\\n",
       "0  Atelier graphique           1965 Aston Martin DB5               26   \n",
       "1  Atelier graphique    1999 Indy 500 Monte Carlo SS               46   \n",
       "2  Atelier graphique  1948 Porsche Type 356 Roadster               34   \n",
       "3  Atelier graphique       1966 Shelby Cobra 427 S/C               50   \n",
       "\n",
       "  priceEach  \n",
       "0    120.71  \n",
       "1    114.84  \n",
       "2    117.26  \n",
       "3     43.27  "
      ],
      "text/html": "<div>\n<style scoped>\n    .dataframe tbody tr th:only-of-type {\n        vertical-align: middle;\n    }\n\n    .dataframe tbody tr th {\n        vertical-align: top;\n    }\n\n    .dataframe thead th {\n        text-align: right;\n    }\n</style>\n<table border=\"1\" class=\"dataframe\">\n  <thead>\n    <tr style=\"text-align: right;\">\n      <th></th>\n      <th>customerName</th>\n      <th>productName</th>\n      <th>quantityOrdered</th>\n      <th>priceEach</th>\n    </tr>\n  </thead>\n  <tbody>\n    <tr>\n      <th>0</th>\n      <td>Atelier graphique</td>\n      <td>1965 Aston Martin DB5</td>\n      <td>26</td>\n      <td>120.71</td>\n    </tr>\n    <tr>\n      <th>1</th>\n      <td>Atelier graphique</td>\n      <td>1999 Indy 500 Monte Carlo SS</td>\n      <td>46</td>\n      <td>114.84</td>\n    </tr>\n    <tr>\n      <th>2</th>\n      <td>Atelier graphique</td>\n      <td>1948 Porsche Type 356 Roadster</td>\n      <td>34</td>\n      <td>117.26</td>\n    </tr>\n    <tr>\n      <th>3</th>\n      <td>Atelier graphique</td>\n      <td>1966 Shelby Cobra 427 S/C</td>\n      <td>50</td>\n      <td>43.27</td>\n    </tr>\n  </tbody>\n</table>\n</div>"
     },
     "metadata": {},
     "execution_count": 7
    }
   ],
   "source": [
    "mycursor = mydb.cursor()\n",
    "query = ('SELECT customerName, productName, quantityOrdered, priceEach FROM products pr JOIN orderDetails od ON pr.productCode = od.productCode JOIN orders o ON od.orderNumber = o.orderNumber JOIN customers c ON o.customerNumber = c.customerNumber JOIN payments pa ON c.customerNumber = pa.customerNumber WHERE pa.paymentDate = {d 20030605} LIMIT 4;'\n",
    "    )\n",
    "mycursor.execute(query)\n",
    "result = mycursor.fetchall()\n",
    "ans5 = pd.DataFrame(result, columns=mycursor.column_names)\n",
    "ans5"
   ]
  },
  {
   "cell_type": "code",
   "execution_count": null,
   "metadata": {},
   "outputs": [],
   "source": []
  }
 ]
}